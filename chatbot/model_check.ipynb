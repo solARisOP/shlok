{
 "cells": [
  {
   "cell_type": "code",
   "execution_count": 1,
   "id": "29c2dc83",
   "metadata": {},
   "outputs": [],
   "source": [
    "import tensorflow as tf\n",
    "import tensorflow_text as text\n",
    "from tensorflow import keras\n",
    "import tensorflow_hub as hub\n",
    "from keras.models import load_model"
   ]
  },
  {
   "cell_type": "code",
   "execution_count": 7,
   "id": "17133de0",
   "metadata": {},
   "outputs": [],
   "source": [
    "model = load_model((\"C:/Users/nitis/Downloads/final_h5.h5\"), custom_objects={'KerasLayer':hub.KerasLayer}, compile=False)"
   ]
  },
  {
   "cell_type": "code",
   "execution_count": 8,
   "id": "cf67eadf",
   "metadata": {},
   "outputs": [],
   "source": [
    "import numpy as np"
   ]
  },
  {
   "cell_type": "code",
   "execution_count": 9,
   "id": "26e2bcf9",
   "metadata": {},
   "outputs": [],
   "source": [
    "intent = ['fallback','service_completion','greeting','session_reschedule','session_cancelation','book_session','feedback', 'session_status']"
   ]
  },
  {
   "cell_type": "code",
   "execution_count": 10,
   "id": "7affd750",
   "metadata": {},
   "outputs": [],
   "source": [
    "def predict_intent(text):\n",
    "    x = model.predict([text])\n",
    "    ind = np.argmax(x)\n",
    "    return intent[ind]"
   ]
  },
  {
   "cell_type": "code",
   "execution_count": 11,
   "id": "6ba13175",
   "metadata": {},
   "outputs": [
    {
     "name": "stdout",
     "output_type": "stream",
     "text": [
      "1/1 [==============================] - 1s 917ms/step\n"
     ]
    },
    {
     "data": {
      "text/plain": [
       "'session_status'"
      ]
     },
     "execution_count": 11,
     "metadata": {},
     "output_type": "execute_result"
    }
   ],
   "source": [
    "predict_intent(\"can u just change date of my booking\")"
   ]
  },
  {
   "cell_type": "code",
   "execution_count": null,
   "id": "0c92703d",
   "metadata": {},
   "outputs": [],
   "source": []
  },
  {
   "cell_type": "code",
   "execution_count": null,
   "id": "8a828f6a",
   "metadata": {},
   "outputs": [],
   "source": []
  }
 ],
 "metadata": {
  "kernelspec": {
   "display_name": "Python 3 (ipykernel)",
   "language": "python",
   "name": "python3"
  },
  "language_info": {
   "codemirror_mode": {
    "name": "ipython",
    "version": 3
   },
   "file_extension": ".py",
   "mimetype": "text/x-python",
   "name": "python",
   "nbconvert_exporter": "python",
   "pygments_lexer": "ipython3",
   "version": "3.10.9"
  }
 },
 "nbformat": 4,
 "nbformat_minor": 5
}
